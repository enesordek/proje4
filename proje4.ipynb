{
  "nbformat": 4,
  "nbformat_minor": 0,
  "metadata": {
    "colab": {
      "provenance": [],
      "authorship_tag": "ABX9TyP5cd8zQgdvxvo+LmvLwTIt",
      "include_colab_link": true
    },
    "kernelspec": {
      "name": "python3",
      "display_name": "Python 3"
    },
    "language_info": {
      "name": "python"
    }
  },
  "cells": [
    {
      "cell_type": "markdown",
      "metadata": {
        "id": "view-in-github",
        "colab_type": "text"
      },
      "source": [
        "<a href=\"https://colab.research.google.com/github/enesordek/proje4/blob/main/proje4.ipynb\" target=\"_parent\"><img src=\"https://colab.research.google.com/assets/colab-badge.svg\" alt=\"Open In Colab\"/></a>"
      ]
    },
    {
      "cell_type": "code",
      "execution_count": 1,
      "metadata": {
        "colab": {
          "base_uri": "https://localhost:8080/"
        },
        "id": "9JcJ5Ho6G1C0",
        "outputId": "10df590b-669a-4a06-93fa-c1afea83a64f"
      },
      "outputs": [
        {
          "output_type": "stream",
          "name": "stdout",
          "text": [
            "Requirement already satisfied: pandas in /usr/local/lib/python3.10/dist-packages (2.2.2)\n",
            "Requirement already satisfied: numpy>=1.22.4 in /usr/local/lib/python3.10/dist-packages (from pandas) (1.26.4)\n",
            "Requirement already satisfied: python-dateutil>=2.8.2 in /usr/local/lib/python3.10/dist-packages (from pandas) (2.8.2)\n",
            "Requirement already satisfied: pytz>=2020.1 in /usr/local/lib/python3.10/dist-packages (from pandas) (2024.2)\n",
            "Requirement already satisfied: tzdata>=2022.7 in /usr/local/lib/python3.10/dist-packages (from pandas) (2024.2)\n",
            "Requirement already satisfied: six>=1.5 in /usr/local/lib/python3.10/dist-packages (from python-dateutil>=2.8.2->pandas) (1.16.0)\n",
            "Requirement already satisfied: scikit-learn in /usr/local/lib/python3.10/dist-packages (1.5.2)\n",
            "Requirement already satisfied: numpy>=1.19.5 in /usr/local/lib/python3.10/dist-packages (from scikit-learn) (1.26.4)\n",
            "Requirement already satisfied: scipy>=1.6.0 in /usr/local/lib/python3.10/dist-packages (from scikit-learn) (1.13.1)\n",
            "Requirement already satisfied: joblib>=1.2.0 in /usr/local/lib/python3.10/dist-packages (from scikit-learn) (1.4.2)\n",
            "Requirement already satisfied: threadpoolctl>=3.1.0 in /usr/local/lib/python3.10/dist-packages (from scikit-learn) (3.5.0)\n",
            "Tespit Edilen Konu: Teknoloji\n"
          ]
        }
      ],
      "source": [
        "# Gerekli kütüphanelerin kurulumu\n",
        "!pip install pandas\n",
        "!pip install scikit-learn\n",
        "\n",
        "# Kütüphanelerin import edilmesi\n",
        "import pandas as pd\n",
        "from sklearn.feature_extraction.text import TfidfVectorizer\n",
        "from sklearn.metrics.pairwise import cosine_similarity\n",
        "\n",
        "# Konu başlıkları ve örnek cümleler\n",
        "veri = {\n",
        "    \"Konu\": [\"Siyaset\", \"Siyaset\", \"Teknoloji\", \"Teknoloji\", \"Spor\", \"Spor\", \"Sağlık\", \"Sağlık\", \"Eğlence\", \"Eğlence\"],\n",
        "    \"Metin\": [\n",
        "        \"hükümet yeni politikalar uygulamaya başladı\",\n",
        "        \"seçimler yaklaşıyor ve partiler çalışmalarını hızlandırdı\",\n",
        "        \"yapay zeka ve büyük veri üzerine yeni bir yazılım geliştirildi\",\n",
        "        \"bilgisayar teknolojisinde büyük bir ilerleme yaşandı\",\n",
        "        \"futbol takımı şampiyonluk için mücadele ediyor\",\n",
        "        \"basketbol oyuncuları antrenmanlarını yoğunlaştırdı\",\n",
        "        \"sağlık çalışanları yeni aşı geliştirdi\",\n",
        "        \"hastanelerde tedavi süreci hızlandırıldı\",\n",
        "        \"sinema filmleri ve konserler yeniden başladı\",\n",
        "        \"müzik festivalleri büyük ilgi görüyor\"\n",
        "    ]\n",
        "}\n",
        "\n",
        "# Veriyi pandas ile tabloya dönüştürme\n",
        "df = pd.DataFrame(veri)\n",
        "\n",
        "# TF-IDF vektörizer\n",
        "tfidf = TfidfVectorizer()\n",
        "\n",
        "# Tüm metinleri TF-IDF matrisine dönüştür\n",
        "tfidf_matrix = tfidf.fit_transform(df['Metin'])\n",
        "\n",
        "# Konu tespit fonksiyonu\n",
        "def konu_tespit(metin):\n",
        "    # Giriş metnini TF-IDF formatına çevir\n",
        "    metin_tfidf = tfidf.transform([metin])\n",
        "\n",
        "    # Cosine similarity hesapla\n",
        "    cosine_similarities = cosine_similarity(metin_tfidf, tfidf_matrix).flatten()\n",
        "\n",
        "    # En yüksek benzerliği bul\n",
        "    en_yuksek_indeks = cosine_similarities.argmax()\n",
        "\n",
        "    # Eğer benzerlik skoru çok düşükse, \"diğer konular\" döndür\n",
        "    if cosine_similarities[en_yuksek_indeks] < 0.1:  # Eşik değeri olarak 0.1 kullanıldı\n",
        "        return \"diğer konular\"\n",
        "\n",
        "    return df.iloc[en_yuksek_indeks][\"Konu\"]\n",
        "\n",
        "# Örnek kullanım\n",
        "metin = \"yeni bir telefon teknolojisi tanıtıldı ve çok ilgi gördü\"\n",
        "print(\"Tespit Edilen Konu:\", konu_tespit(metin))\n"
      ]
    }
  ]
}